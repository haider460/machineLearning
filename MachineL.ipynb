{
  "nbformat": 4,
  "nbformat_minor": 0,
  "metadata": {
    "colab": {
      "name": "MachineL.ipynb",
      "provenance": [],
      "collapsed_sections": [],
      "mount_file_id": "1vUrBRRoawYpE26oqvkXrkUxwGZ-XhOn3",
      "authorship_tag": "ABX9TyO8WGB14ti7Mj3FiQLgwOax",
      "include_colab_link": true
    },
    "kernelspec": {
      "name": "python3",
      "display_name": "Python 3"
    }
  },
  "cells": [
    {
      "cell_type": "markdown",
      "metadata": {
        "id": "view-in-github",
        "colab_type": "text"
      },
      "source": [
        "<a href=\"https://colab.research.google.com/github/haider460/machineLearning/blob/main/MachineL.ipynb\" target=\"_parent\"><img src=\"https://colab.research.google.com/assets/colab-badge.svg\" alt=\"Open In Colab\"/></a>"
      ]
    },
    {
      "cell_type": "code",
      "metadata": {
        "id": "WIs8lPRw0frN"
      },
      "source": [
        "#  Helo world programe"
      ],
      "execution_count": null,
      "outputs": []
    },
    {
      "cell_type": "markdown",
      "metadata": {
        "id": "AdAYEn_-_KxQ"
      },
      "source": [
        "get data from public link"
      ]
    },
    {
      "cell_type": "code",
      "metadata": {
        "id": "erYbsvqk_RZk"
      },
      "source": [
        "!wget (link)"
      ],
      "execution_count": null,
      "outputs": []
    },
    {
      "cell_type": "code",
      "metadata": {
        "id": "xFO8a0yRAOul"
      },
      "source": [
        "!ls"
      ],
      "execution_count": null,
      "outputs": []
    },
    {
      "cell_type": "code",
      "metadata": {
        "id": "Aboj_opYArq3"
      },
      "source": [
        "import pandas as pd"
      ],
      "execution_count": null,
      "outputs": []
    },
    {
      "cell_type": "code",
      "metadata": {
        "id": "xy4ydAJZA6fw"
      },
      "source": [
        "pd.read_csv('titanic.csv', sep= \"\\t\").head()"
      ],
      "execution_count": null,
      "outputs": []
    },
    {
      "cell_type": "markdown",
      "metadata": {
        "id": "vIu7X009BiEZ"
      },
      "source": [
        "fetch dataset from github "
      ]
    },
    {
      "cell_type": "code",
      "metadata": {
        "id": "eQ6CZ8h5Bovr"
      },
      "source": [
        " !git clone https://github.com/ankit25587/Natural-Language-Processing-with-Python.git"
      ],
      "execution_count": null,
      "outputs": []
    },
    {
      "cell_type": "code",
      "metadata": {
        "id": "RRTOX8L4D-k6"
      },
      "source": [
        "import pandas as pd\r\n",
        "\r\n",
        "data = pd.read_csv(\"Natural-Language-Processing-with-Python/imdb_labelled.txt\", sep=\"\\t\")\r\n",
        "print(data)"
      ],
      "execution_count": null,
      "outputs": []
    },
    {
      "cell_type": "markdown",
      "metadata": {
        "id": "bEA288OQGIvd"
      },
      "source": [
        "**`fetch the data from the Google Drive `**"
      ]
    },
    {
      "cell_type": "code",
      "metadata": {
        "id": "Nsm8XwTmGOO8"
      },
      "source": [
        "from google.colab import drive\r\n",
        "drive.mount('/content/drive')"
      ],
      "execution_count": null,
      "outputs": []
    }
  ]
}